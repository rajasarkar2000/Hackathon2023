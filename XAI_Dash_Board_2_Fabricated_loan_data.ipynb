{
 "cells": [
  {
   "cell_type": "code",
   "execution_count": 1,
   "id": "ec53a4f2",
   "metadata": {},
   "outputs": [],
   "source": [
    "# UBS Hackathon 2023\n",
    "## XAI Dash Board 2 (Fabricated_loan_data)"
   ]
  },
  {
   "cell_type": "code",
   "execution_count": null,
   "id": "e86ade68",
   "metadata": {},
   "outputs": [],
   "source": [
    "#!pip install explainerdashboard"
   ]
  },
  {
   "cell_type": "code",
   "execution_count": 1,
   "id": "4c039bc8",
   "metadata": {},
   "outputs": [],
   "source": [
    "#Importing Libraries & Packages\n",
    "import pandas as pd\n",
    "import numpy as np\n",
    "from sklearn.ensemble import RandomForestRegressor\n",
    "from explainerdashboard import RegressionExplainer, ExplainerDashboard"
   ]
  },
  {
   "cell_type": "code",
   "execution_count": 2,
   "id": "0efa1b5d",
   "metadata": {},
   "outputs": [
    {
     "data": {
      "text/html": [
       "<div>\n",
       "<style scoped>\n",
       "    .dataframe tbody tr th:only-of-type {\n",
       "        vertical-align: middle;\n",
       "    }\n",
       "\n",
       "    .dataframe tbody tr th {\n",
       "        vertical-align: top;\n",
       "    }\n",
       "\n",
       "    .dataframe thead th {\n",
       "        text-align: right;\n",
       "    }\n",
       "</style>\n",
       "<table border=\"1\" class=\"dataframe\">\n",
       "  <thead>\n",
       "    <tr style=\"text-align: right;\">\n",
       "      <th></th>\n",
       "      <th>Gender</th>\n",
       "      <th>Loan_Requirement (in 1000$)</th>\n",
       "      <th>Loan_Tenure</th>\n",
       "      <th>Home_Ownership</th>\n",
       "      <th>Income (in 1000$)</th>\n",
       "      <th>Employment_Tenure</th>\n",
       "      <th>Credit_score</th>\n",
       "      <th>Age</th>\n",
       "      <th>Credit_Utlization</th>\n",
       "      <th>Active_Credit_balance (in 1000$)</th>\n",
       "      <th>Open_CreditAcc</th>\n",
       "      <th>Income_to_debt_ratio</th>\n",
       "      <th>Pre-Approved</th>\n",
       "      <th>LoanStatus</th>\n",
       "    </tr>\n",
       "  </thead>\n",
       "  <tbody>\n",
       "    <tr>\n",
       "      <th>0</th>\n",
       "      <td>Male</td>\n",
       "      <td>43</td>\n",
       "      <td>12</td>\n",
       "      <td>1</td>\n",
       "      <td>34</td>\n",
       "      <td>36</td>\n",
       "      <td>920</td>\n",
       "      <td>39</td>\n",
       "      <td>23</td>\n",
       "      <td>5</td>\n",
       "      <td>3</td>\n",
       "      <td>80</td>\n",
       "      <td>1</td>\n",
       "      <td>True</td>\n",
       "    </tr>\n",
       "    <tr>\n",
       "      <th>1</th>\n",
       "      <td>Male</td>\n",
       "      <td>17</td>\n",
       "      <td>5</td>\n",
       "      <td>1</td>\n",
       "      <td>63</td>\n",
       "      <td>22</td>\n",
       "      <td>862</td>\n",
       "      <td>41</td>\n",
       "      <td>24</td>\n",
       "      <td>9</td>\n",
       "      <td>4</td>\n",
       "      <td>79</td>\n",
       "      <td>0</td>\n",
       "      <td>True</td>\n",
       "    </tr>\n",
       "    <tr>\n",
       "      <th>2</th>\n",
       "      <td>Female</td>\n",
       "      <td>85</td>\n",
       "      <td>16</td>\n",
       "      <td>1</td>\n",
       "      <td>3000</td>\n",
       "      <td>0</td>\n",
       "      <td>390</td>\n",
       "      <td>67</td>\n",
       "      <td>30</td>\n",
       "      <td>31</td>\n",
       "      <td>5</td>\n",
       "      <td>29</td>\n",
       "      <td>0</td>\n",
       "      <td>False</td>\n",
       "    </tr>\n",
       "    <tr>\n",
       "      <th>3</th>\n",
       "      <td>Male</td>\n",
       "      <td>54</td>\n",
       "      <td>16</td>\n",
       "      <td>0</td>\n",
       "      <td>4000</td>\n",
       "      <td>0</td>\n",
       "      <td>515</td>\n",
       "      <td>60</td>\n",
       "      <td>38</td>\n",
       "      <td>28</td>\n",
       "      <td>6</td>\n",
       "      <td>14</td>\n",
       "      <td>0</td>\n",
       "      <td>False</td>\n",
       "    </tr>\n",
       "    <tr>\n",
       "      <th>4</th>\n",
       "      <td>Male</td>\n",
       "      <td>20</td>\n",
       "      <td>6</td>\n",
       "      <td>0</td>\n",
       "      <td>49</td>\n",
       "      <td>33</td>\n",
       "      <td>940</td>\n",
       "      <td>30</td>\n",
       "      <td>7</td>\n",
       "      <td>8</td>\n",
       "      <td>1</td>\n",
       "      <td>87</td>\n",
       "      <td>1</td>\n",
       "      <td>True</td>\n",
       "    </tr>\n",
       "  </tbody>\n",
       "</table>\n",
       "</div>"
      ],
      "text/plain": [
       "   Gender  Loan_Requirement (in 1000$)  Loan_Tenure  Home_Ownership  \\\n",
       "0    Male                           43           12               1   \n",
       "1    Male                           17            5               1   \n",
       "2  Female                           85           16               1   \n",
       "3    Male                           54           16               0   \n",
       "4    Male                           20            6               0   \n",
       "\n",
       "   Income (in 1000$)  Employment_Tenure  Credit_score  Age  Credit_Utlization  \\\n",
       "0                 34                 36           920   39                 23   \n",
       "1                 63                 22           862   41                 24   \n",
       "2               3000                  0           390   67                 30   \n",
       "3               4000                  0           515   60                 38   \n",
       "4                 49                 33           940   30                  7   \n",
       "\n",
       "   Active_Credit_balance (in 1000$)  Open_CreditAcc  Income_to_debt_ratio  \\\n",
       "0                                 5               3                    80   \n",
       "1                                 9               4                    79   \n",
       "2                                31               5                    29   \n",
       "3                                28               6                    14   \n",
       "4                                 8               1                    87   \n",
       "\n",
       "   Pre-Approved  LoanStatus  \n",
       "0             1        True  \n",
       "1             0        True  \n",
       "2             0       False  \n",
       "3             0       False  \n",
       "4             1        True  "
      ]
     },
     "execution_count": 2,
     "metadata": {},
     "output_type": "execute_result"
    }
   ],
   "source": [
    "#Import the Diabetes Dataset\n",
    "from sklearn.datasets import load_diabetes\n",
    "data= pd.read_csv('Fabricated_loan_data.csv')\n",
    "#print(data)\n",
    "data.head()"
   ]
  },
  {
   "cell_type": "code",
   "execution_count": 3,
   "id": "41c66710",
   "metadata": {},
   "outputs": [
    {
     "data": {
      "text/plain": [
       "['Gender',\n",
       " 'Loan_Requirement (in 1000$)',\n",
       " 'Loan_Tenure',\n",
       " 'Home_Ownership',\n",
       " 'Income (in 1000$)',\n",
       " 'Employment_Tenure',\n",
       " 'Credit_score',\n",
       " 'Age',\n",
       " 'Credit_Utlization',\n",
       " 'Active_Credit_balance (in 1000$)',\n",
       " 'Open_CreditAcc',\n",
       " 'Income_to_debt_ratio',\n",
       " 'Pre-Approved',\n",
       " 'LoanStatus']"
      ]
     },
     "execution_count": 3,
     "metadata": {},
     "output_type": "execute_result"
    }
   ],
   "source": [
    "list(data.columns)"
   ]
  },
  {
   "cell_type": "code",
   "execution_count": 4,
   "id": "3fc6d9a7",
   "metadata": {},
   "outputs": [],
   "source": [
    "#y=pd.DataFrame(data.target,columns=[\"target\"])\n",
    "#y.head()\n",
    "features = ['Loan_Requirement (in 1000$)',\n",
    " 'Loan_Tenure',\n",
    " 'Home_Ownership',\n",
    " 'Income (in 1000$)',\n",
    " 'Employment_Tenure',\n",
    " 'Credit_score',\n",
    " 'Age',\n",
    " 'Credit_Utlization',\n",
    " 'Active_Credit_balance (in 1000$)',\n",
    " 'Open_CreditAcc',\n",
    " 'Income_to_debt_ratio',\n",
    " 'Pre-Approved']\n",
    "label = 'LoanStatus'\n",
    "X, y = data[features], data[label]"
   ]
  },
  {
   "cell_type": "code",
   "execution_count": 5,
   "id": "261f5461",
   "metadata": {},
   "outputs": [
    {
     "name": "stdout",
     "output_type": "stream",
     "text": [
      "Training cases: 2940\n",
      "Test cases: 1260\n"
     ]
    }
   ],
   "source": [
    "from sklearn.model_selection import train_test_split\n",
    "from sklearn.ensemble import RandomForestRegressor\n",
    "from explainerdashboard import RegressionExplainer, ExplainerDashboard\n",
    "import dash_bootstrap_components as dbc\n",
    "from sklearn.model_selection import train_test_split\n",
    "\n",
    "# Split data 70%-30% into training set and test set\n",
    "X_train, X_test, y_train, y_test = train_test_split(X, y, test_size=0.30, random_state=1)\n",
    "\n",
    "print ('Training cases: %d\\nTest cases: %d' % (X_train.shape[0], X_test.shape[0]))\n",
    "\n",
    "\n",
    "\n",
    "#X_train, X_test, y_train, y_test = train_test_split(X, y, test_size=0.2, random_state=1)\n",
    "#print(X_train.shape,y_train.shape,X_test.shape,y_test.shape)"
   ]
  },
  {
   "cell_type": "code",
   "execution_count": 6,
   "id": "315ad509",
   "metadata": {},
   "outputs": [
    {
     "name": "stdout",
     "output_type": "stream",
     "text": [
      "LogisticRegression(C=100.0, solver='liblinear')\n"
     ]
    }
   ],
   "source": [
    "# Train the model\n",
    "from sklearn.linear_model import LogisticRegression\n",
    "\n",
    "# Set regularization rate\n",
    "reg = 0.01\n",
    "\n",
    "# train a logistic regression model on the training set\n",
    "model = LogisticRegression(C=1/reg, solver=\"liblinear\").fit(X_train, y_train)\n",
    "print (model)"
   ]
  },
  {
   "cell_type": "code",
   "execution_count": 7,
   "id": "61ceafd0-1ec7-4775-b985-6102476d9b63",
   "metadata": {},
   "outputs": [
    {
     "name": "stdout",
     "output_type": "stream",
     "text": [
      "Predicted labels:  [False False False ... False False False]\n",
      "Actual labels:     3603    False\n",
      "781     False\n",
      "2165     True\n",
      "1217     True\n",
      "1006    False\n",
      "        ...  \n",
      "3576    False\n",
      "3878     True\n",
      "569     False\n",
      "3037    False\n",
      "1760    False\n",
      "Name: LoanStatus, Length: 1260, dtype: bool\n"
     ]
    }
   ],
   "source": [
    "predictions = model.predict(X_test)\n",
    "print('Predicted labels: ', predictions)\n",
    "print('Actual labels:    ' ,y_test)"
   ]
  },
  {
   "cell_type": "code",
   "execution_count": 8,
   "id": "6d49c972-1578-4695-a06b-b06fb1bbd0e3",
   "metadata": {},
   "outputs": [
    {
     "name": "stdout",
     "output_type": "stream",
     "text": [
      "Accuracy:  0.9809523809523809\n"
     ]
    }
   ],
   "source": [
    "from sklearn.metrics import accuracy_score\n",
    "\n",
    "print('Accuracy: ', accuracy_score(y_test, predictions))"
   ]
  },
  {
   "cell_type": "code",
   "execution_count": 9,
   "id": "8dc276c2-7769-4249-822e-c2a8f7ab65d7",
   "metadata": {},
   "outputs": [
    {
     "name": "stdout",
     "output_type": "stream",
     "text": [
      "              precision    recall  f1-score   support\n",
      "\n",
      "       False       0.98      0.98      0.98       637\n",
      "        True       0.98      0.98      0.98       623\n",
      "\n",
      "    accuracy                           0.98      1260\n",
      "   macro avg       0.98      0.98      0.98      1260\n",
      "weighted avg       0.98      0.98      0.98      1260\n",
      "\n"
     ]
    }
   ],
   "source": [
    "from sklearn. metrics import classification_report\n",
    "\n",
    "print(classification_report(y_test, predictions))"
   ]
  },
  {
   "cell_type": "code",
   "execution_count": 10,
   "id": "f0d673aa-9711-4d1d-9b78-4b58503ca3bc",
   "metadata": {},
   "outputs": [
    {
     "name": "stdout",
     "output_type": "stream",
     "text": [
      "[[625  12]\n",
      " [ 12 611]]\n"
     ]
    }
   ],
   "source": [
    "from sklearn.metrics import confusion_matrix\n",
    "\n",
    "# Print the confusion matrix\n",
    "cm = confusion_matrix(y_test, predictions)\n",
    "print (cm)"
   ]
  },
  {
   "cell_type": "code",
   "execution_count": 11,
   "id": "4fd99791-0143-4cd8-bd49-9f5312a73dc5",
   "metadata": {},
   "outputs": [
    {
     "name": "stdout",
     "output_type": "stream",
     "text": [
      "[[0.97972808 0.02027192]\n",
      " [0.99776426 0.00223574]\n",
      " [0.92093657 0.07906343]\n",
      " ...\n",
      " [0.97887254 0.02112746]\n",
      " [0.99049731 0.00950269]\n",
      " [0.98920431 0.01079569]]\n"
     ]
    }
   ],
   "source": [
    "y_scores = model.predict_proba(X_test)\n",
    "print(y_scores)"
   ]
  },
  {
   "cell_type": "code",
   "execution_count": null,
   "id": "e24a0319",
   "metadata": {},
   "outputs": [],
   "source": []
  },
  {
   "cell_type": "code",
   "execution_count": null,
   "id": "a10d9f85",
   "metadata": {},
   "outputs": [
    {
     "name": "stdout",
     "output_type": "stream",
     "text": [
      "WARNING: For shap='linear', shap interaction values can unfortunately not be calculated!\n",
      "Note: model_output='probability' is currently not supported for linear classifiers models with shap. So defaulting to model_output='logodds' If you really need probability outputs use shap='kernel' instead.\n",
      "Note: shap values for shap='linear' get calculated against X_background, but paramater X_background=None, so using X instead...\n",
      "Generating self.shap_explainer = shap.LinearExplainer(model, X)...\n",
      "Building ExplainerDashboard..\n",
      "WARNING: the number of idxs (=1260) > max_idxs_in_dropdown(=1000). However with your installed version of dash(2.9.3) dropdown search may not work smoothly. You can downgrade to `pip install dash==2.6.2` which should work better for now...\n",
      "Detected notebook environment, consider setting mode='external', mode='inline' or mode='jupyterlab' to keep the notebook interactive while the dashboard is running...\n",
      "For this type of model and model_output interactions don't work, so setting shap_interaction=False...\n",
      "The explainer object has no decision_trees property. so setting decision_trees=False...\n",
      "Generating layout...\n",
      "Calculating shap values...\n",
      "Calculating prediction probabilities...\n",
      "Calculating metrics...\n",
      "Calculating confusion matrices...\n",
      "Calculating classification_dfs...\n",
      "Calculating roc auc curves...\n",
      "Calculating pr auc curves...\n",
      "Calculating liftcurve_dfs...\n",
      "Calculating dependencies...\n",
      "Calculating permutation importances (if slow, try setting n_jobs parameter)...\n",
      "Calculating predictions...\n",
      "Calculating pred_percentiles...\n",
      "Reminder: you can store the explainer (including calculated dependencies) with explainer.dump('explainer.joblib') and reload with e.g. ClassifierExplainer.from_file('explainer.joblib')\n",
      "Registering callbacks...\n",
      "Starting ExplainerDashboard on http://10.13.190.177:3051\n",
      "Dash is running on http://0.0.0.0:3051/\n",
      "\n",
      " * Serving Flask app 'explainerdashboard.dashboards'\n",
      " * Debug mode: off\n"
     ]
    },
    {
     "name": "stderr",
     "output_type": "stream",
     "text": [
      "WARNING: This is a development server. Do not use it in a production deployment. Use a production WSGI server instead.\n",
      " * Running on all addresses (0.0.0.0)\n",
      " * Running on http://127.0.0.1:3051\n",
      " * Running on http://10.13.190.177:3051\n",
      "Press CTRL+C to quit\n",
      "127.0.0.1 - - [19/Oct/2023 16:34:18] \"GET / HTTP/1.1\" 200 -\n",
      "127.0.0.1 - - [19/Oct/2023 16:34:18] \"GET /assets/bootstrap.min.css?m=1682656229.37191 HTTP/1.1\" 200 -\n",
      "127.0.0.1 - - [19/Oct/2023 16:34:18] \"GET /_dash-component-suites/dash/deps/polyfill@7.v2_9_3m1682656202.12.1.min.js HTTP/1.1\" 200 -\n",
      "127.0.0.1 - - [19/Oct/2023 16:34:18] \"GET /_dash-component-suites/dash/deps/react@16.v2_9_3m1682656202.14.0.min.js HTTP/1.1\" 200 -\n",
      "127.0.0.1 - - [19/Oct/2023 16:34:18] \"GET /_dash-component-suites/dash/deps/react-dom@16.v2_9_3m1682656202.14.0.min.js HTTP/1.1\" 200 -\n",
      "127.0.0.1 - - [19/Oct/2023 16:34:18] \"GET /_dash-component-suites/dash/deps/prop-types@15.v2_9_3m1682656202.8.1.min.js HTTP/1.1\" 200 -\n",
      "127.0.0.1 - - [19/Oct/2023 16:34:18] \"GET /_dash-component-suites/dash_bootstrap_components/_components/dash_bootstrap_components.v1_4_1m1682656222.min.js HTTP/1.1\" 200 -\n",
      "127.0.0.1 - - [19/Oct/2023 16:34:18] \"GET /_dash-component-suites/dash/dash-renderer/build/dash_renderer.v2_9_3m1682656201.min.js HTTP/1.1\" 200 -\n",
      "127.0.0.1 - - [19/Oct/2023 16:34:18] \"GET /_dash-component-suites/dash/dcc/dash_core_components.v2_9_2m1682656202.js HTTP/1.1\" 200 -\n",
      "127.0.0.1 - - [19/Oct/2023 16:34:18] \"GET /_dash-component-suites/dash/dcc/dash_core_components-shared.v2_9_2m1682656202.js HTTP/1.1\" 200 -\n",
      "127.0.0.1 - - [19/Oct/2023 16:34:18] \"GET /_dash-component-suites/dash/html/dash_html_components.v2_0_11m1682656203.min.js HTTP/1.1\" 200 -\n",
      "127.0.0.1 - - [19/Oct/2023 16:34:18] \"GET /_dash-component-suites/dash/dash_table/bundle.v5_2_4m1682656201.js HTTP/1.1\" 200 -\n",
      "127.0.0.1 - - [19/Oct/2023 16:34:19] \"GET /_dash-dependencies HTTP/1.1\" 200 -\n",
      "127.0.0.1 - - [19/Oct/2023 16:34:19] \"GET /_dash-layout HTTP/1.1\" 200 -\n",
      "127.0.0.1 - - [19/Oct/2023 16:34:19] \"GET /assets/favicon.ico?m=1682656229.3749113 HTTP/1.1\" 200 -\n",
      "127.0.0.1 - - [19/Oct/2023 16:34:19] \"GET /_dash-component-suites/dash/dcc/async-dropdown.js HTTP/1.1\" 200 -\n",
      "127.0.0.1 - - [19/Oct/2023 16:34:19] \"GET /_dash-component-suites/dash/dcc/async-graph.js HTTP/1.1\" 200 -\n",
      "127.0.0.1 - - [19/Oct/2023 16:34:19] \"GET /_dash-component-suites/dash/dcc/async-plotlyjs.js HTTP/1.1\" 200 -\n",
      "127.0.0.1 - - [19/Oct/2023 16:34:19] \"POST /_dash-update-component HTTP/1.1\" 204 -\n",
      "127.0.0.1 - - [19/Oct/2023 16:34:19] \"POST /_dash-update-component HTTP/1.1\" 200 -\n",
      "127.0.0.1 - - [19/Oct/2023 16:34:19] \"POST /_dash-update-component HTTP/1.1\" 200 -\n",
      "127.0.0.1 - - [19/Oct/2023 16:34:19] \"POST /_dash-update-component HTTP/1.1\" 200 -\n",
      "127.0.0.1 - - [19/Oct/2023 16:34:19] \"POST /_dash-update-component HTTP/1.1\" 200 -\n",
      "127.0.0.1 - - [19/Oct/2023 16:34:19] \"POST /_dash-update-component HTTP/1.1\" 200 -\n",
      "127.0.0.1 - - [19/Oct/2023 16:34:19] \"POST /_dash-update-component HTTP/1.1\" 200 -\n",
      "127.0.0.1 - - [19/Oct/2023 16:34:19] \"POST /_dash-update-component HTTP/1.1\" 200 -\n",
      "127.0.0.1 - - [19/Oct/2023 16:34:19] \"POST /_dash-update-component HTTP/1.1\" 200 -\n",
      "127.0.0.1 - - [19/Oct/2023 16:34:19] \"POST /_dash-update-component HTTP/1.1\" 200 -\n",
      "127.0.0.1 - - [19/Oct/2023 16:34:19] \"POST /_dash-update-component HTTP/1.1\" 200 -\n",
      "127.0.0.1 - - [19/Oct/2023 16:34:19] \"POST /_dash-update-component HTTP/1.1\" 200 -\n",
      "127.0.0.1 - - [19/Oct/2023 16:34:19] \"POST /_dash-update-component HTTP/1.1\" 204 -\n",
      "127.0.0.1 - - [19/Oct/2023 16:34:19] \"POST /_dash-update-component HTTP/1.1\" 200 -\n",
      "127.0.0.1 - - [19/Oct/2023 16:34:19] \"POST /_dash-update-component HTTP/1.1\" 200 -\n",
      "127.0.0.1 - - [19/Oct/2023 16:34:19] \"POST /_dash-update-component HTTP/1.1\" 200 -\n",
      "127.0.0.1 - - [19/Oct/2023 16:34:19] \"POST /_dash-update-component HTTP/1.1\" 200 -\n",
      "127.0.0.1 - - [19/Oct/2023 16:34:19] \"POST /_dash-update-component HTTP/1.1\" 200 -\n",
      "127.0.0.1 - - [19/Oct/2023 16:34:20] \"POST /_dash-update-component HTTP/1.1\" 204 -\n",
      "127.0.0.1 - - [19/Oct/2023 16:34:20] \"POST /_dash-update-component HTTP/1.1\" 200 -\n",
      "127.0.0.1 - - [19/Oct/2023 16:34:20] \"POST /_dash-update-component HTTP/1.1\" 200 -\n",
      "127.0.0.1 - - [19/Oct/2023 16:34:20] \"POST /_dash-update-component HTTP/1.1\" 200 -\n",
      "127.0.0.1 - - [19/Oct/2023 16:34:20] \"POST /_dash-update-component HTTP/1.1\" 200 -\n",
      "127.0.0.1 - - [19/Oct/2023 16:34:20] \"POST /_dash-update-component HTTP/1.1\" 200 -\n",
      "127.0.0.1 - - [19/Oct/2023 16:34:20] \"POST /_dash-update-component HTTP/1.1\" 200 -\n",
      "127.0.0.1 - - [19/Oct/2023 16:34:20] \"POST /_dash-update-component HTTP/1.1\" 200 -\n",
      "127.0.0.1 - - [19/Oct/2023 16:34:20] \"POST /_dash-update-component HTTP/1.1\" 200 -\n",
      "127.0.0.1 - - [19/Oct/2023 16:34:20] \"POST /_dash-update-component HTTP/1.1\" 200 -\n",
      "127.0.0.1 - - [19/Oct/2023 16:34:20] \"POST /_dash-update-component HTTP/1.1\" 200 -\n",
      "127.0.0.1 - - [19/Oct/2023 16:34:20] \"POST /_dash-update-component HTTP/1.1\" 200 -\n",
      "127.0.0.1 - - [19/Oct/2023 16:34:20] \"POST /_dash-update-component HTTP/1.1\" 200 -\n",
      "127.0.0.1 - - [19/Oct/2023 16:34:20] \"POST /_dash-update-component HTTP/1.1\" 200 -\n",
      "127.0.0.1 - - [19/Oct/2023 16:34:20] \"POST /_dash-update-component HTTP/1.1\" 200 -\n",
      "127.0.0.1 - - [19/Oct/2023 16:34:20] \"POST /_dash-update-component HTTP/1.1\" 200 -\n",
      "127.0.0.1 - - [19/Oct/2023 16:34:20] \"POST /_dash-update-component HTTP/1.1\" 200 -\n",
      "127.0.0.1 - - [19/Oct/2023 16:34:20] \"POST /_dash-update-component HTTP/1.1\" 204 -\n",
      "127.0.0.1 - - [19/Oct/2023 16:34:20] \"POST /_dash-update-component HTTP/1.1\" 200 -\n",
      "127.0.0.1 - - [19/Oct/2023 16:34:21] \"POST /_dash-update-component HTTP/1.1\" 204 -\n",
      "127.0.0.1 - - [19/Oct/2023 16:34:21] \"POST /_dash-update-component HTTP/1.1\" 200 -\n",
      "127.0.0.1 - - [19/Oct/2023 16:34:21] \"POST /_dash-update-component HTTP/1.1\" 200 -\n",
      "127.0.0.1 - - [19/Oct/2023 16:34:21] \"POST /_dash-update-component HTTP/1.1\" 204 -\n",
      "127.0.0.1 - - [19/Oct/2023 16:34:21] \"POST /_dash-update-component HTTP/1.1\" 204 -\n",
      "127.0.0.1 - - [19/Oct/2023 16:34:21] \"POST /_dash-update-component HTTP/1.1\" 200 -\n",
      "127.0.0.1 - - [19/Oct/2023 16:34:21] \"POST /_dash-update-component HTTP/1.1\" 204 -\n",
      "127.0.0.1 - - [19/Oct/2023 16:34:21] \"POST /_dash-update-component HTTP/1.1\" 200 -\n",
      "127.0.0.1 - - [19/Oct/2023 16:34:21] \"POST /_dash-update-component HTTP/1.1\" 200 -\n",
      "127.0.0.1 - - [19/Oct/2023 16:34:21] \"POST /_dash-update-component HTTP/1.1\" 200 -\n",
      "127.0.0.1 - - [19/Oct/2023 16:34:21] \"POST /_dash-update-component HTTP/1.1\" 204 -\n",
      "127.0.0.1 - - [19/Oct/2023 16:34:21] \"POST /_dash-update-component HTTP/1.1\" 204 -\n",
      "127.0.0.1 - - [19/Oct/2023 16:34:21] \"POST /_dash-update-component HTTP/1.1\" 200 -\n",
      "127.0.0.1 - - [19/Oct/2023 16:34:21] \"POST /_dash-update-component HTTP/1.1\" 200 -\n",
      "127.0.0.1 - - [19/Oct/2023 16:34:21] \"POST /_dash-update-component HTTP/1.1\" 200 -\n",
      "127.0.0.1 - - [19/Oct/2023 16:34:21] \"POST /_dash-update-component HTTP/1.1\" 200 -\n",
      "127.0.0.1 - - [19/Oct/2023 16:34:21] \"POST /_dash-update-component HTTP/1.1\" 200 -\n",
      "127.0.0.1 - - [19/Oct/2023 16:34:21] \"POST /_dash-update-component HTTP/1.1\" 200 -\n",
      "127.0.0.1 - - [19/Oct/2023 16:34:21] \"POST /_dash-update-component HTTP/1.1\" 200 -\n",
      "127.0.0.1 - - [19/Oct/2023 16:34:21] \"POST /_dash-update-component HTTP/1.1\" 204 -\n",
      "127.0.0.1 - - [19/Oct/2023 16:34:21] \"POST /_dash-update-component HTTP/1.1\" 204 -\n",
      "127.0.0.1 - - [19/Oct/2023 16:34:21] \"POST /_dash-update-component HTTP/1.1\" 200 -\n",
      "127.0.0.1 - - [19/Oct/2023 16:34:21] \"POST /_dash-update-component HTTP/1.1\" 204 -\n",
      "127.0.0.1 - - [19/Oct/2023 16:34:21] \"POST /_dash-update-component HTTP/1.1\" 200 -\n",
      "127.0.0.1 - - [19/Oct/2023 16:34:21] \"POST /_dash-update-component HTTP/1.1\" 204 -\n",
      "127.0.0.1 - - [19/Oct/2023 16:34:21] \"POST /_dash-update-component HTTP/1.1\" 204 -\n",
      "127.0.0.1 - - [19/Oct/2023 16:34:21] \"POST /_dash-update-component HTTP/1.1\" 204 -\n",
      "127.0.0.1 - - [19/Oct/2023 16:34:21] \"POST /_dash-update-component HTTP/1.1\" 200 -\n",
      "127.0.0.1 - - [19/Oct/2023 16:34:21] \"POST /_dash-update-component HTTP/1.1\" 200 -\n",
      "127.0.0.1 - - [19/Oct/2023 16:34:22] \"POST /_dash-update-component HTTP/1.1\" 200 -\n",
      "127.0.0.1 - - [19/Oct/2023 16:34:35] \"POST /_dash-update-component HTTP/1.1\" 200 -\n",
      "127.0.0.1 - - [19/Oct/2023 16:34:36] \"POST /_dash-update-component HTTP/1.1\" 204 -\n",
      "127.0.0.1 - - [19/Oct/2023 16:34:36] \"POST /_dash-update-component HTTP/1.1\" 204 -\n",
      "127.0.0.1 - - [19/Oct/2023 16:34:36] \"POST /_dash-update-component HTTP/1.1\" 200 -\n"
     ]
    },
    {
     "name": "stderr",
     "output_type": "stream",
     "text": [
      "127.0.0.1 - - [19/Oct/2023 16:34:36] \"POST /_dash-update-component HTTP/1.1\" 200 -\n",
      "127.0.0.1 - - [19/Oct/2023 16:34:36] \"POST /_dash-update-component HTTP/1.1\" 204 -\n",
      "127.0.0.1 - - [19/Oct/2023 16:34:36] \"POST /_dash-update-component HTTP/1.1\" 200 -\n",
      "127.0.0.1 - - [19/Oct/2023 16:34:36] \"POST /_dash-update-component HTTP/1.1\" 204 -\n",
      "127.0.0.1 - - [19/Oct/2023 16:34:36] \"POST /_dash-update-component HTTP/1.1\" 204 -\n",
      "127.0.0.1 - - [19/Oct/2023 16:34:36] \"POST /_dash-update-component HTTP/1.1\" 200 -\n",
      "127.0.0.1 - - [19/Oct/2023 16:34:36] \"POST /_dash-update-component HTTP/1.1\" 200 -\n",
      "127.0.0.1 - - [19/Oct/2023 16:34:36] \"POST /_dash-update-component HTTP/1.1\" 200 -\n",
      "127.0.0.1 - - [19/Oct/2023 16:34:36] \"POST /_dash-update-component HTTP/1.1\" 200 -\n",
      "127.0.0.1 - - [19/Oct/2023 16:34:36] \"POST /_dash-update-component HTTP/1.1\" 200 -\n",
      "127.0.0.1 - - [19/Oct/2023 16:34:36] \"POST /_dash-update-component HTTP/1.1\" 200 -\n",
      "127.0.0.1 - - [19/Oct/2023 16:34:36] \"POST /_dash-update-component HTTP/1.1\" 200 -\n",
      "127.0.0.1 - - [19/Oct/2023 16:34:36] \"POST /_dash-update-component HTTP/1.1\" 200 -\n",
      "127.0.0.1 - - [19/Oct/2023 16:34:36] \"POST /_dash-update-component HTTP/1.1\" 200 -\n",
      "127.0.0.1 - - [19/Oct/2023 16:34:36] \"POST /_dash-update-component HTTP/1.1\" 200 -\n",
      "127.0.0.1 - - [19/Oct/2023 17:07:29] \"GET /_dash-component-suites/dash/dcc/async-slider.js HTTP/1.1\" 200 -\n",
      "127.0.0.1 - - [19/Oct/2023 17:07:40] \"POST /_dash-update-component HTTP/1.1\" 200 -\n"
     ]
    }
   ],
   "source": [
    "#explainer = RegressionExplainer(model, X_test, y_test)\n",
    "from explainerdashboard import ClassifierExplainer, RegressionExplainer\n",
    "\n",
    "explainer = ClassifierExplainer(model, X_test, y_test)\n",
    "#explainer = RegressionExplainer(model, X_test, y_test)\n",
    "\n",
    "db = ExplainerDashboard(explainer, \n",
    "                        title=\"Loan Approval Prediction\", # defaults to \"Model Explainer\"\n",
    "                        whatif=False\n",
    "                        \n",
    "                        )\n",
    "db.run(port=3051)"
   ]
  },
  {
   "cell_type": "code",
   "execution_count": null,
   "id": "9efd93f7",
   "metadata": {},
   "outputs": [],
   "source": []
  },
  {
   "cell_type": "code",
   "execution_count": null,
   "id": "489b3a43-e81f-4f4b-9783-2bfb3ea42176",
   "metadata": {},
   "outputs": [],
   "source": []
  }
 ],
 "metadata": {
  "kernelspec": {
   "display_name": "Python 3 (ipykernel)",
   "language": "python",
   "name": "python3"
  },
  "language_info": {
   "codemirror_mode": {
    "name": "ipython",
    "version": 3
   },
   "file_extension": ".py",
   "mimetype": "text/x-python",
   "name": "python",
   "nbconvert_exporter": "python",
   "pygments_lexer": "ipython3",
   "version": "3.10.9"
  }
 },
 "nbformat": 4,
 "nbformat_minor": 5
}
